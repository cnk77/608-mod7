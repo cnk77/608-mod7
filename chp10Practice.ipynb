{
 "cells": [
  {
   "cell_type": "code",
   "execution_count": 6,
   "id": "b5787b66-74b7-4bae-a877-6ce0e6391724",
   "metadata": {},
   "outputs": [
    {
     "name": "stdout",
     "output_type": "stream",
     "text": [
      "John Green\n",
      "50.00\n",
      "75.53\n"
     ]
    },
    {
     "data": {
      "text/plain": [
       "\u001b[1;31mInit signature:\u001b[0m \u001b[0mAccount\u001b[0m\u001b[1;33m(\u001b[0m\u001b[0mname\u001b[0m\u001b[1;33m,\u001b[0m \u001b[0mbalance\u001b[0m\u001b[1;33m)\u001b[0m\u001b[1;33m\u001b[0m\u001b[1;33m\u001b[0m\u001b[0m\n",
       "\u001b[1;31mDocstring:\u001b[0m      Account class for maintaining a bank account balance.\n",
       "\u001b[1;31mInit docstring:\u001b[0m Initialize an Account object.\n",
       "\u001b[1;31mFile:\u001b[0m           c:\\users\\mizzo\\documents\\44-608\\608-mod7\\account.py\n",
       "\u001b[1;31mType:\u001b[0m           type\n",
       "\u001b[1;31mSubclasses:\u001b[0m     \n"
      ]
     },
     "metadata": {},
     "output_type": "display_data"
    }
   ],
   "source": [
    "# Chapter 10 practice\n",
    "\n",
    "# Kyle Hudson\n",
    "\n",
    "# 10.2 Custom Class Account\n",
    "\n",
    "# 10.2.1 Test-Driving Class Account\n",
    "\n",
    "from account import Account  ### importing Classes Account and Decimal\n",
    "from decimal import Decimal\n",
    "\n",
    "value = Decimal('12.34') \n",
    "\n",
    "account1 = Account('John Green', Decimal('50.00'))\n",
    "\n",
    "print(account1.name)\n",
    "print(account1.balance)\n",
    "                   \n",
    "account1.deposit(Decimal('25.53'))\n",
    "\n",
    "print(account1.balance)\n",
    "### print(account1.deposit(Decimal('-123.45'))) produces ValueError because negative value\n",
    "\n",
    "# 10.2.2 Account Class Definition \n",
    "\n",
    "Account?"
   ]
  },
  {
   "cell_type": "code",
   "execution_count": 12,
   "id": "8700f813-2848-4219-ab86-eb65568b11a6",
   "metadata": {},
   "outputs": [
    {
     "ename": "AttributeError",
     "evalue": "'Account' object has no attribute 'withdraw'",
     "output_type": "error",
     "traceback": [
      "\u001b[1;31m---------------------------------------------------------------------------\u001b[0m",
      "\u001b[1;31mAttributeError\u001b[0m                            Traceback (most recent call last)",
      "\u001b[1;32m~\\AppData\\Local\\Temp/ipykernel_14576/2385551076.py\u001b[0m in \u001b[0;36m<module>\u001b[1;34m\u001b[0m\n\u001b[0;32m     19\u001b[0m \u001b[0maccount1\u001b[0m \u001b[1;33m=\u001b[0m \u001b[0mAccount\u001b[0m\u001b[1;33m(\u001b[0m\u001b[1;34m'John Green'\u001b[0m\u001b[1;33m,\u001b[0m \u001b[0mDecimal\u001b[0m\u001b[1;33m(\u001b[0m\u001b[1;34m'50.00'\u001b[0m\u001b[1;33m)\u001b[0m\u001b[1;33m)\u001b[0m\u001b[1;33m\u001b[0m\u001b[1;33m\u001b[0m\u001b[0m\n\u001b[0;32m     20\u001b[0m \u001b[1;33m\u001b[0m\u001b[0m\n\u001b[1;32m---> 21\u001b[1;33m \u001b[0maccount1\u001b[0m\u001b[1;33m.\u001b[0m\u001b[0mwithdraw\u001b[0m\u001b[1;33m(\u001b[0m\u001b[0mDecimal\u001b[0m\u001b[1;33m(\u001b[0m\u001b[1;34m'20.00'\u001b[0m\u001b[1;33m)\u001b[0m\u001b[1;33m)\u001b[0m\u001b[1;33m\u001b[0m\u001b[1;33m\u001b[0m\u001b[0m\n\u001b[0m\u001b[0;32m     22\u001b[0m \u001b[1;33m\u001b[0m\u001b[0m\n\u001b[0;32m     23\u001b[0m \u001b[0mprint\u001b[0m\u001b[1;33m(\u001b[0m\u001b[0maccount1\u001b[0m\u001b[1;33m.\u001b[0m\u001b[0mbalance\u001b[0m\u001b[1;33m)\u001b[0m\u001b[1;33m\u001b[0m\u001b[1;33m\u001b[0m\u001b[0m\n",
      "\u001b[1;31mAttributeError\u001b[0m: 'Account' object has no attribute 'withdraw'"
     ]
    }
   ],
   "source": [
    "# 10.2 Self-check 3: Add a withdraw method to class Account. If the withdrawal amount is greater than the balance, \n",
    "# raise a ValueError, indicating that the withdrawal amount must be less than or equal to the balance. If the withdrawal \n",
    "# amount is less than 0.00, raise a ValueError indicating that the withdrawal amount must be positive. If the withdrawal \n",
    "# amount is valid, subtract it from the balance attribute. Create an Account object, then test method withdraw first with \n",
    "# a valid withdrawal amount, then with a withdrawal amount greater than the balance and finally with a negative withdrawal amount.\n",
    "\n",
    "from account import Account\n",
    "from decimal import Decimal\n",
    "\n",
    "def withdraw(self, amount):\n",
    "    \n",
    "    if amount > self.balance:\n",
    "        raise ValueError('Amount must be <= balance.')\n",
    "    elif amount < Decimal('0.00'):\n",
    "        raise ValueError('Amount must be positive.')\n",
    "        \n",
    "    self.balance -= amount\n",
    "\n",
    "account1 = Account('John Green', Decimal('50.00'))\n",
    "\n",
    "account1.withdraw(Decimal('20.00'))\n",
    "\n",
    "print(account1.balance)"
   ]
  },
  {
   "cell_type": "code",
   "execution_count": 14,
   "id": "4a2cff21-4072-4dce-9a3b-ed7ea4332b52",
   "metadata": {},
   "outputs": [
    {
     "name": "stdout",
     "output_type": "stream",
     "text": [
      "50.00\n",
      "-1000.00\n"
     ]
    }
   ],
   "source": [
    "# 10.3 Controlling Access to Attributes\n",
    "\n",
    "from account import Account\n",
    "from decimal import Decimal\n",
    "\n",
    "account1 = Account('John Green', Decimal('50.00'))\n",
    "\n",
    "print(account1.balance)\n",
    "\n",
    "account1.balance = Decimal('-1000.00') \"\"\"data attributes can not validate values like methods can\"\"\"\n",
    "\n",
    "print(account1.balance)"
   ]
  },
  {
   "cell_type": "code",
   "execution_count": 22,
   "id": "a6d6d693-676d-42f4-a4d3-adf380760d69",
   "metadata": {},
   "outputs": [
    {
     "name": "stdout",
     "output_type": "stream",
     "text": [
      "6:30:00 AM\n",
      "6\n",
      "7:45:00 AM\n",
      "6:45:00 AM\n"
     ]
    },
    {
     "ename": "ValueError",
     "evalue": "Hour (100) must be 0-23",
     "output_type": "error",
     "traceback": [
      "\u001b[1;31m---------------------------------------------------------------------------\u001b[0m",
      "\u001b[1;31mValueError\u001b[0m                                Traceback (most recent call last)",
      "\u001b[1;32m~\\AppData\\Local\\Temp/ipykernel_14576/1008167450.py\u001b[0m in \u001b[0;36m<module>\u001b[1;34m\u001b[0m\n\u001b[0;32m     19\u001b[0m \u001b[0mprint\u001b[0m\u001b[1;33m(\u001b[0m\u001b[0mwake_up\u001b[0m\u001b[1;33m)\u001b[0m\u001b[1;33m\u001b[0m\u001b[1;33m\u001b[0m\u001b[0m\n\u001b[0;32m     20\u001b[0m \u001b[1;33m\u001b[0m\u001b[0m\n\u001b[1;32m---> 21\u001b[1;33m \u001b[0mwake_up\u001b[0m\u001b[1;33m.\u001b[0m\u001b[0mhour\u001b[0m \u001b[1;33m=\u001b[0m \u001b[1;36m100\u001b[0m\u001b[1;33m\u001b[0m\u001b[1;33m\u001b[0m\u001b[0m\n\u001b[0m\u001b[0;32m     22\u001b[0m \u001b[1;33m\u001b[0m\u001b[0m\n\u001b[0;32m     23\u001b[0m \u001b[0mprint\u001b[0m\u001b[1;33m(\u001b[0m\u001b[0mwake_up\u001b[0m\u001b[1;33m)\u001b[0m\u001b[1;33m\u001b[0m\u001b[1;33m\u001b[0m\u001b[0m\n",
      "\u001b[1;32m~\\Documents\\44-608\\608-mod7\\timewithproperties.py\u001b[0m in \u001b[0;36mhour\u001b[1;34m(self, hour)\u001b[0m\n\u001b[0;32m     20\u001b[0m         \u001b[1;34m\"\"\"Set the hour.\"\"\"\u001b[0m\u001b[1;33m\u001b[0m\u001b[1;33m\u001b[0m\u001b[0m\n\u001b[0;32m     21\u001b[0m         \u001b[1;32mif\u001b[0m \u001b[1;32mnot\u001b[0m \u001b[1;33m(\u001b[0m\u001b[1;36m0\u001b[0m \u001b[1;33m<=\u001b[0m \u001b[0mhour\u001b[0m \u001b[1;33m<\u001b[0m \u001b[1;36m24\u001b[0m\u001b[1;33m)\u001b[0m\u001b[1;33m:\u001b[0m\u001b[1;33m\u001b[0m\u001b[1;33m\u001b[0m\u001b[0m\n\u001b[1;32m---> 22\u001b[1;33m             \u001b[1;32mraise\u001b[0m \u001b[0mValueError\u001b[0m\u001b[1;33m(\u001b[0m\u001b[1;34mf'Hour ({hour}) must be 0-23'\u001b[0m\u001b[1;33m)\u001b[0m\u001b[1;33m\u001b[0m\u001b[1;33m\u001b[0m\u001b[0m\n\u001b[0m\u001b[0;32m     23\u001b[0m \u001b[1;33m\u001b[0m\u001b[0m\n\u001b[0;32m     24\u001b[0m         \u001b[0mself\u001b[0m\u001b[1;33m.\u001b[0m\u001b[0m_hour\u001b[0m \u001b[1;33m=\u001b[0m \u001b[0mhour\u001b[0m\u001b[1;33m\u001b[0m\u001b[1;33m\u001b[0m\u001b[0m\n",
      "\u001b[1;31mValueError\u001b[0m: Hour (100) must be 0-23"
     ]
    }
   ],
   "source": [
    "# 10.4 Properties for Data Access\n",
    "\n",
    "# 10.4.1 Test-Driving Class Time\n",
    "\n",
    "from timewithproperties import Time\n",
    "\n",
    "wake_up = Time(hour=6, minute=30)\n",
    "\n",
    "print(wake_up)\n",
    "\n",
    "print(wake_up.hour)\n",
    "\n",
    "wake_up.set_time(hour=7, minute=45)\n",
    "\n",
    "print(wake_up)\n",
    "\n",
    "wake_up.hour = 6\n",
    "\n",
    "print(wake_up)\n",
    "\n",
    "wake_up.hour = 100\n",
    "\n",
    "print(wake_up)"
   ]
  },
  {
   "cell_type": "code",
   "execution_count": 24,
   "id": "d521572c-4e15-4977-8aee-8ed821d859bf",
   "metadata": {},
   "outputs": [
    {
     "name": "stdout",
     "output_type": "stream",
     "text": [
      "12:00:00 AM\n"
     ]
    },
    {
     "ename": "AttributeError",
     "evalue": "'Time' object has no attribute 'time'",
     "output_type": "error",
     "traceback": [
      "\u001b[1;31m---------------------------------------------------------------------------\u001b[0m",
      "\u001b[1;31mAttributeError\u001b[0m                            Traceback (most recent call last)",
      "\u001b[1;32m~\\AppData\\Local\\Temp/ipykernel_14576/1704435498.py\u001b[0m in \u001b[0;36m<module>\u001b[1;34m\u001b[0m\n\u001b[0;32m      9\u001b[0m \u001b[0mprint\u001b[0m\u001b[1;33m(\u001b[0m\u001b[0mt\u001b[0m\u001b[1;33m)\u001b[0m\u001b[1;33m\u001b[0m\u001b[1;33m\u001b[0m\u001b[0m\n\u001b[0;32m     10\u001b[0m \u001b[1;33m\u001b[0m\u001b[0m\n\u001b[1;32m---> 11\u001b[1;33m \u001b[0mt\u001b[0m\u001b[1;33m.\u001b[0m\u001b[0mtime\u001b[0m\u001b[1;33m(\u001b[0m\u001b[0mhour\u001b[0m\u001b[1;33m=\u001b[0m\u001b[1;36m0\u001b[0m\u001b[1;33m,\u001b[0m \u001b[0mminute\u001b[0m\u001b[1;33m=\u001b[0m\u001b[1;36m0\u001b[0m\u001b[1;33m,\u001b[0m \u001b[0msecond\u001b[0m\u001b[1;33m=\u001b[0m\u001b[1;36m0\u001b[0m\u001b[1;33m)\u001b[0m\u001b[1;33m\u001b[0m\u001b[1;33m\u001b[0m\u001b[0m\n\u001b[0m\u001b[0;32m     12\u001b[0m \u001b[1;33m\u001b[0m\u001b[0m\n\u001b[0;32m     13\u001b[0m \u001b[0mprint\u001b[0m\u001b[1;33m(\u001b[0m\u001b[0mt\u001b[0m\u001b[1;33m.\u001b[0m\u001b[0mtime\u001b[0m\u001b[1;33m)\u001b[0m\u001b[1;33m\u001b[0m\u001b[1;33m\u001b[0m\u001b[0m\n",
      "\u001b[1;31mAttributeError\u001b[0m: 'Time' object has no attribute 'time'"
     ]
    }
   ],
   "source": [
    "# 10.4.2 Self-Check 3: Add to class Time a read-write property time in which the getter returns a tuple containing the values \n",
    "# of the hour, minute and second properties, and the setter receives a tuple containing hour, minute and second values and uses \n",
    "# them to set the time. Create a Time object and test the new property.\n",
    "\n",
    "from timewithproperties import Time\n",
    "\n",
    "t = Time ()\n",
    "\n",
    "print(t)\n",
    "\n",
    "t.time(hour=0, minute=0, second=0)\n",
    "\n",
    "print(t.time)"
   ]
  },
  {
   "cell_type": "code",
   "execution_count": 26,
   "id": "1ec187d8-489a-469f-a03b-a1b55f5e24c5",
   "metadata": {},
   "outputs": [
    {
     "name": "stdout",
     "output_type": "stream",
     "text": [
      "7\n"
     ]
    },
    {
     "data": {
      "text/plain": [
       "Time(hour=100, minute=45, second=30)"
      ]
     },
     "execution_count": 26,
     "metadata": {},
     "output_type": "execute_result"
    }
   ],
   "source": [
    "# 10.4.3 Class Time Definition Design Notes\n",
    "\n",
    "from timewithproperties import Time\n",
    "\n",
    "wake_up = Time(hour=7, minute=45, second=30)\n",
    "\n",
    "print(wake_up.hour)\n",
    "\n",
    "wake_up._hour = 100\n",
    "\n",
    "wake_up"
   ]
  },
  {
   "cell_type": "code",
   "execution_count": 30,
   "id": "432618dd-5c41-44f8-86ed-5e593e45a7fc",
   "metadata": {},
   "outputs": [
    {
     "name": "stdout",
     "output_type": "stream",
     "text": [
      "public\n",
      "private\n",
      "modified\n"
     ]
    }
   ],
   "source": [
    "# 10.5 Simulating \"Private\" Attributes\n",
    "\n",
    "from private import PrivateClass\n",
    "\n",
    "my_object = PrivateClass()\n",
    "\n",
    "print(my_object.public_data)\n",
    "\n",
    "# 10.5 Self-Check 3: Even with double-underscore (__) naming, we can still access and modify __private_data, \n",
    "# because we know that Python renames attributes simply by prefixing their names with '_ClassName'. \n",
    "# Demonstrate this for class PrivateData’s data attribute __private_data.\n",
    "\n",
    "print(my_object._PrivateClass__private_data)\n",
    "\n",
    "my_object._PrivateClass__private_data = 'modified'\n",
    "\n",
    "print(my_object._PrivateClass__private_data)"
   ]
  },
  {
   "cell_type": "code",
   "execution_count": 38,
   "id": "af3770da-bd8c-44ee-a90e-dda7202cd6ba",
   "metadata": {},
   "outputs": [
    {
     "name": "stdout",
     "output_type": "stream",
     "text": [
      "Ace of Hearts      2 of Hearts        3 of Hearts        4 of Hearts        \n",
      "5 of Hearts        6 of Hearts        7 of Hearts        8 of Hearts        \n",
      "9 of Hearts        10 of Hearts       Jack of Hearts     Queen of Hearts    \n",
      "King of Hearts     Ace of Diamonds    2 of Diamonds      3 of Diamonds      \n",
      "4 of Diamonds      5 of Diamonds      6 of Diamonds      7 of Diamonds      \n",
      "8 of Diamonds      9 of Diamonds      10 of Diamonds     Jack of Diamonds   \n",
      "Queen of Diamonds  King of Diamonds   Ace of Clubs       2 of Clubs         \n",
      "3 of Clubs         4 of Clubs         5 of Clubs         6 of Clubs         \n",
      "7 of Clubs         8 of Clubs         9 of Clubs         10 of Clubs        \n",
      "Jack of Clubs      Queen of Clubs     King of Clubs      Ace of Spades      \n",
      "2 of Spades        3 of Spades        4 of Spades        5 of Spades        \n",
      "6 of Spades        7 of Spades        8 of Spades        9 of Spades        \n",
      "10 of Spades       Jack of Spades     Queen of Spades    King of Spades     \n",
      "\n",
      "7 of Hearts        8 of Diamonds      2 of Diamonds      Ace of Hearts      \n",
      "Queen of Clubs     5 of Diamonds      8 of Hearts        6 of Spades        \n",
      "10 of Diamonds     4 of Spades        7 of Spades        2 of Hearts        \n",
      "Queen of Hearts    9 of Diamonds      6 of Clubs         King of Hearts     \n",
      "4 of Clubs         9 of Hearts        7 of Diamonds      8 of Spades        \n",
      "King of Spades     3 of Hearts        8 of Clubs         King of Diamonds   \n",
      "4 of Hearts        5 of Spades        Ace of Diamonds    3 of Clubs         \n",
      "Queen of Spades    3 of Diamonds      10 of Clubs        9 of Clubs         \n",
      "3 of Spades        9 of Spades        Queen of Diamonds  6 of Hearts        \n",
      "Ace of Spades      4 of Diamonds      King of Clubs      5 of Clubs         \n",
      "2 of Clubs         Ace of Clubs       5 of Hearts        6 of Diamonds      \n",
      "Jack of Diamonds   2 of Spades        Jack of Hearts     Jack of Spades     \n",
      "Jack of Clubs      10 of Spades       10 of Hearts       7 of Clubs         \n",
      "\n"
     ]
    },
    {
     "data": {
      "text/plain": [
       "'8_of_Diamonds.png'"
      ]
     },
     "execution_count": 38,
     "metadata": {},
     "output_type": "execute_result"
    }
   ],
   "source": [
    "# 10.6 Case Study: Card Shuffling and Dealing Simulation\n",
    "\n",
    "# 10.6.1 Test-Driving Classes Card and DeckOfCards\n",
    "\n",
    "from deck import DeckOfCards\n",
    "\n",
    "deck_of_cards = DeckOfCards()\n",
    "\n",
    "print(deck_of_cards)\n",
    "\n",
    "deck_of_cards.shuffle()\n",
    "\n",
    "print(deck_of_cards)\n",
    "\n",
    "deck_of_cards.deal_card()\n",
    "\n",
    "card = deck_of_cards.deal_card()\n",
    "\n",
    "str(card)\n",
    "\n",
    "card.image_name"
   ]
  },
  {
   "cell_type": "code",
   "execution_count": 44,
   "id": "057313d3-dcea-4bef-8da3-83dfd51fd0c8",
   "metadata": {},
   "outputs": [
    {
     "name": "stdout",
     "output_type": "stream",
     "text": [
      "Using matplotlib backend: QtAgg\n"
     ]
    }
   ],
   "source": [
    "# 10.6.4 Displaying Card Images with Matplotlib\n",
    "\n",
    "from deck import DeckOfCards\n",
    "\n",
    "deck_of_cards = DeckOfCards()\n",
    "\n",
    "%matplotlib\n",
    "\n",
    "from pathlib import Path\n",
    "\n",
    "path = Path('.').joinpath('card_images')\n",
    "\n",
    "import matplotlib.pyplot as plt\n",
    "import matplotlib.image as mpimg\n",
    "\n",
    "figure, axes_list = plt.subplots(nrows=4, ncols=13)\n",
    "\n",
    "for axes in axes_list.ravel():\n",
    "    axes.get_xaxis().set_visible(False)\n",
    "    axes.get_yaxis().set_visible(False)\n",
    "    image_name = deck_of_cards.deal_card().image_name\n",
    "    img = mpimg.imread(str(path.joinpath(image_name).resolve()))\n",
    "    axes.imshow(img)\n",
    "\n",
    "figure.tight_layout()\n",
    "\n",
    "deck_of_cards.shuffle()\n",
    "\n",
    "for axes in axes_list.ravel():\n",
    "    axes.get_xaxis().set_visible(False)\n",
    "    axes.get_yaxis().set_visible(False)\n",
    "    image_name = deck_of_cards.deal_card().image_name\n",
    "    img = mpimg.imread(str(path.joinpath(image_name).resolve()))\n",
    "    axes.imshow(img)\n",
    "    \n",
    "# 10.6.4 Self-Check 4: Continue this section’s session by reshuffling the cards, then \n",
    "# creating a new Figure containing two rows of five cards each—these might represent \n",
    "# two five-card poker hands.\n",
    "\n",
    "deck_of_cards.shuffle()\n",
    "\n",
    "figure, axes_list = plt.subplots(nrows=2, ncols=5)\n",
    "\n",
    "for axes in axes_list.ravel():\n",
    "    axes.get_xaxis().set_visible(False)\n",
    "    axes.get_yaxis().set_visible(False)\n",
    "    image_name = deck_of_cards.deal_card().image_name\n",
    "    img = mpimg.imread(str(path.joinpath(image_name).resolve()))\n",
    "    axes.imshow(img)\n",
    "\n",
    "figure.tight_layout()"
   ]
  },
  {
   "cell_type": "code",
   "execution_count": 59,
   "id": "e51063e3-e15d-4241-bbf3-19020844e90d",
   "metadata": {},
   "outputs": [
    {
     "name": "stdout",
     "output_type": "stream",
     "text": [
      "CommissionEmployee: Sue Jones\n",
      "social security number: 333-33-3333\n",
      "gross sales: 10000.00\n",
      "commission rate: 0.06\n",
      "600.00\n",
      "2,000.00\n",
      "Bob Lewis 444-44-4444 5000.00 0.04 300.00\n",
      "500.00\n",
      "SalariedCommissionEmployee: Bob Lewis\n",
      "social security number: 444-44-4444\n",
      "gross sales: 10000.00\n",
      "commission rate: 0.05\n",
      "base salary: 1000.00\n",
      "1,500.00\n",
      "True\n",
      "True\n",
      "True\n",
      "CommissionEmployee: Sue Jones\n",
      "social security number: 333-33-3333\n",
      "gross sales: 20000.00\n",
      "commission rate: 0.10\n",
      "2,000.00\n",
      "\n",
      "SalariedCommissionEmployee: Bob Lewis\n",
      "social security number: 444-44-4444\n",
      "gross sales: 10000.00\n",
      "commission rate: 0.05\n",
      "base salary: 1000.00\n",
      "1,500.00\n",
      "\n"
     ]
    }
   ],
   "source": [
    "# 10.8.1 Base Class CommissionEmployee\n",
    "\n",
    "from commissionemployee import CommissionEmployee\n",
    "\n",
    "from decimal import Decimal\n",
    "\n",
    "c = CommissionEmployee('Sue', 'Jones', '333-33-3333', Decimal('10000.00'), Decimal('0.06'))\n",
    "\n",
    "print(c)\n",
    "\n",
    "print(f'{c.earnings():,.2f}')\n",
    "\n",
    "c.gross_sales = Decimal('20000.00')\n",
    "c.commission_rate = Decimal('0.1')\n",
    "\n",
    "print(f'{c.earnings():,.2f}')\n",
    "\n",
    "# 10.8.2 Subclass SalariedCommissionEmployee\n",
    "\n",
    "from salariedcommissionemployee import SalariedCommissionEmployee\n",
    "\n",
    "s = SalariedCommissionEmployee('Bob', 'Lewis', '444-44-4444', Decimal('5000.00'), Decimal('0.04'), Decimal('300.00'))\n",
    "\n",
    "print(s.first_name, s.last_name, s.ssn, s.gross_sales, s.commission_rate, s.base_salary)\n",
    "print(f'{s.earnings():,.2f}')\n",
    "\n",
    "s.gross_sales = Decimal('10000.00')\n",
    "s.commission_rate = Decimal('0.05')\n",
    "s.base_salary = Decimal('1000.00')\n",
    "\n",
    "print(s)\n",
    "print(f'{s.earnings():,.2f}')\n",
    "\n",
    "print(issubclass(SalariedCommissionEmployee, CommissionEmployee))\n",
    "print(isinstance(s, CommissionEmployee))\n",
    "print(isinstance(s, SalariedCommissionEmployee))\n",
    "\n",
    "# 10.8.3 Processing CommissionEmployee and SalariedCommissionEmployee Polymorphically\n",
    "\n",
    "employees = [c, s]\n",
    "\n",
    "for employee in employees:\n",
    "    print(employee)\n",
    "    print(f'{employee.earnings():,.2f}\\n')"
   ]
  },
  {
   "cell_type": "code",
   "execution_count": 60,
   "id": "2d12f7e0-6394-4a77-9e3e-1dfeed163ebf",
   "metadata": {},
   "outputs": [
    {
     "name": "stdout",
     "output_type": "stream",
     "text": [
      "CommissionEmployee: Sue Jones\n",
      "social security number: 333-33-3333\n",
      "gross sales: 10000.00\n",
      "commission rate: 0.06\n",
      "600.00\n",
      "\n",
      "SalariedCommissionEmployee: Bob Lewis\n",
      "social security number: 444-44-4444\n",
      "gross sales: 5000.00\n",
      "commission rate: 0.04\n",
      "base salary: 300.00\n",
      "500.00\n",
      "\n",
      "I am a well-paid duck\n",
      "1,000,000.00\n",
      "\n"
     ]
    }
   ],
   "source": [
    "# 10.9 Duck Typing and Polymorphism\n",
    "\n",
    "from decimal import Decimal\n",
    "from commissionemployee import CommissionEmployee\n",
    "from salariedcommissionemployee import SalariedCommissionEmployee\n",
    "\n",
    "class WellPaidDuck:\n",
    "    def __repr__(self):\n",
    "        return 'I am a well-paid duck'\n",
    "    def earnings(self):\n",
    "        return Decimal('1_000_000.00')\n",
    "\n",
    "c = CommissionEmployee('Sue', 'Jones', '333-33-3333', Decimal('10000.00'), Decimal('0.06'))\n",
    "\n",
    "s = SalariedCommissionEmployee('Bob', 'Lewis', '444-44-4444', Decimal('5000.00'), Decimal('0.04'), Decimal('300.00'))\n",
    "\n",
    "d = WellPaidDuck()\n",
    "\n",
    "employees = [c, s, d]\n",
    "\n",
    "for employee in employees:\n",
    "    print(employee)\n",
    "    print(f'{employee.earnings():,.2f}\\n')"
   ]
  },
  {
   "cell_type": "code",
   "execution_count": 63,
   "id": "98f0f598-33e5-4324-8f7e-1142d7942127",
   "metadata": {},
   "outputs": [
    {
     "name": "stdout",
     "output_type": "stream",
     "text": [
      "(2 + 4i)\n",
      "(5 - 1i)\n",
      "(7 + 3i)\n",
      "(7 + 3i)\n",
      "(5 - 1i)\n"
     ]
    }
   ],
   "source": [
    "# 10.10.1 Test-Driving Class Complex\n",
    "\n",
    "from complexnumber import Complex\n",
    "\n",
    "x = Complex(real=2, imaginary=4)\n",
    "\n",
    "y = Complex(real=5, imaginary=-1)\n",
    "\n",
    "print(x)\n",
    "print(y)\n",
    "print(x + y)\n",
    "\n",
    "x += y\n",
    "\n",
    "print(x)\n",
    "print(y)"
   ]
  },
  {
   "cell_type": "code",
   "execution_count": 67,
   "id": "9aa04e1f-e5aa-4269-8807-52f85e8c45fb",
   "metadata": {},
   "outputs": [
    {
     "name": "stdout",
     "output_type": "stream",
     "text": [
      "Ace\n",
      "Spades\n",
      "Card(face='Ace', suit='Spades')\n",
      "Card(face='Queen', suit='Hearts')\n",
      "{'face': 'Queen', 'suit': 'Hearts'}\n",
      "14 21 18\n",
      "Time(hour=14, minute=21, second=18)\n"
     ]
    }
   ],
   "source": [
    "# 10.12 Named Tuples\n",
    "\n",
    "from collections import namedtuple\n",
    "\n",
    "Card = namedtuple('Card', ['face', 'suit'])\n",
    "\n",
    "card = Card(face='Ace', suit='Spades')\n",
    "\n",
    "print(card.face)\n",
    "print(card.suit)\n",
    "print(card)\n",
    "\n",
    "values = ['Queen', 'Hearts']\n",
    "\n",
    "card = Card._make(values)\n",
    "\n",
    "print(card)\n",
    "\n",
    "print(card._asdict())\n",
    "\n",
    "# 10.12 Self-Check 3: Create a namedtuple called Time with members named hour, minute \n",
    "# and second. Then, create a Time object, access its members and display its string representation.\n",
    "\n",
    "Time = namedtuple('Time', ['hour', 'minute', 'second'])\n",
    "\n",
    "t = Time(14, 21, 18)\n",
    "\n",
    "print(t.hour, t.minute, t.second)\n",
    "print(t)"
   ]
  },
  {
   "cell_type": "code",
   "execution_count": 74,
   "id": "5445fdb7-a35d-4e9e-9582-8734a095b2a1",
   "metadata": {},
   "outputs": [
    {
     "name": "stdout",
     "output_type": "stream",
     "text": [
      "Ace of Spades\n",
      "Ace\n",
      "Spades\n",
      "Ace_of_Spades.png\n",
      "Ace of Hearts\n",
      "True\n",
      "False\n",
      "True\n",
      "Ace of Hearts      2 of Hearts        3 of Hearts        4 of Hearts        \n",
      "5 of Hearts        6 of Hearts        7 of Hearts        8 of Hearts        \n",
      "9 of Hearts        10 of Hearts       Jack of Hearts     Queen of Hearts    \n",
      "King of Hearts     Ace of Diamonds    2 of Diamonds      3 of Diamonds      \n",
      "4 of Diamonds      5 of Diamonds      6 of Diamonds      7 of Diamonds      \n",
      "8 of Diamonds      9 of Diamonds      10 of Diamonds     Jack of Diamonds   \n",
      "Queen of Diamonds  King of Diamonds   Ace of Clubs       2 of Clubs         \n",
      "3 of Clubs         4 of Clubs         5 of Clubs         6 of Clubs         \n",
      "7 of Clubs         8 of Clubs         9 of Clubs         10 of Clubs        \n",
      "Jack of Clubs      Queen of Clubs     King of Clubs      Ace of Spades      \n",
      "2 of Spades        3 of Spades        4 of Spades        5 of Spades        \n",
      "6 of Spades        7 of Spades        8 of Spades        9 of Spades        \n",
      "10 of Spades       Jack of Spades     Queen of Spades    King of Spades     \n",
      "\n"
     ]
    }
   ],
   "source": [
    "# 10.13.2 Using the Card Data Class\n",
    "\n",
    "from carddataclass import Card\n",
    "\n",
    "c1 = Card(Card.FACES[0], Card.SUITS[3])\n",
    "\n",
    "c1\n",
    "\n",
    "print(c1)\n",
    "\n",
    "print(c1.face)\n",
    "print(c1.suit)\n",
    "print(c1.image_name)\n",
    "\n",
    "c2 = Card(Card.FACES[0], Card.SUITS[3])\n",
    "\n",
    "c3 = Card(Card.FACES[0], Card.SUITS[0])\n",
    "\n",
    "print(c3)\n",
    "\n",
    "print(c1 == c2)\n",
    "print(c1 == c3)\n",
    "print(c1 != c3)\n",
    "\n",
    "from deck2 import DeckOfCards\n",
    "\n",
    "deck_of_cards = DeckOfCards()\n",
    "\n",
    "print(deck_of_cards)"
   ]
  },
  {
   "cell_type": "code",
   "execution_count": 82,
   "id": "c7cc8fab-acda-4871-953f-629b81b0eef7",
   "metadata": {},
   "outputs": [
    {
     "name": "stdout",
     "output_type": "stream",
     "text": [
      "local h in print_variables\n",
      "global g\n",
      "None\n"
     ]
    },
    {
     "ename": "NameError",
     "evalue": "name 'h' is not defined",
     "output_type": "error",
     "traceback": [
      "\u001b[1;31m---------------------------------------------------------------------------\u001b[0m",
      "\u001b[1;31mNameError\u001b[0m                                 Traceback (most recent call last)",
      "\u001b[1;32m~\\AppData\\Local\\Temp/ipykernel_14576/1486392026.py\u001b[0m in \u001b[0;36m<module>\u001b[1;34m\u001b[0m\n\u001b[0;32m     10\u001b[0m \u001b[0mprint\u001b[0m\u001b[1;33m(\u001b[0m\u001b[0mprint_variables\u001b[0m\u001b[1;33m(\u001b[0m\u001b[1;33m)\u001b[0m\u001b[1;33m)\u001b[0m\u001b[1;33m\u001b[0m\u001b[1;33m\u001b[0m\u001b[0m\n\u001b[0;32m     11\u001b[0m \u001b[1;33m\u001b[0m\u001b[0m\n\u001b[1;32m---> 12\u001b[1;33m \u001b[0mprint\u001b[0m\u001b[1;33m(\u001b[0m\u001b[0mh\u001b[0m\u001b[1;33m)\u001b[0m\u001b[1;33m\u001b[0m\u001b[1;33m\u001b[0m\u001b[0m\n\u001b[0m",
      "\u001b[1;31mNameError\u001b[0m: name 'h' is not defined"
     ]
    }
   ],
   "source": [
    "# 10.15 Namespaces and Scopes\n",
    "\n",
    "g = 'global g'\n",
    "\n",
    "def print_variables():\n",
    "    h = 'local h in print_variables'\n",
    "    print(h)\n",
    "    print(g)\n",
    "    \n",
    "print(print_variables())\n",
    "\n",
    "print(h)"
   ]
  },
  {
   "cell_type": "code",
   "execution_count": null,
   "id": "a7ba6779-0877-4e14-9f17-64d05c92d692",
   "metadata": {},
   "outputs": [],
   "source": []
  }
 ],
 "metadata": {
  "kernelspec": {
   "display_name": "Python 3 (ipykernel)",
   "language": "python",
   "name": "python3"
  },
  "language_info": {
   "codemirror_mode": {
    "name": "ipython",
    "version": 3
   },
   "file_extension": ".py",
   "mimetype": "text/x-python",
   "name": "python",
   "nbconvert_exporter": "python",
   "pygments_lexer": "ipython3",
   "version": "3.8.12"
  }
 },
 "nbformat": 4,
 "nbformat_minor": 5
}
