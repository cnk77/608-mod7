{
 "cells": [
  {
   "cell_type": "code",
   "execution_count": 11,
   "id": "75529e77-84da-41f7-a468-cf14e92cea89",
   "metadata": {},
   "outputs": [
    {
     "name": "stdout",
     "output_type": "stream",
     "text": [
      "     Date  Value  Anomaly\n",
      "0  189501   34.2     -3.2\n",
      "1  189601   34.7     -2.7\n",
      "2  189701   35.5     -1.9\n",
      "3  189801   39.6      2.2\n",
      "4  189901   36.4     -1.0\n",
      "       Date  Value  Anomaly\n",
      "119  201401   35.5     -1.9\n",
      "120  201501   36.1     -1.3\n",
      "121  201601   40.8      3.4\n",
      "122  201701   42.8      5.4\n",
      "123  201801   38.7      1.3\n",
      "     Date  Temperature  Anomaly\n",
      "0  189501         34.2     -3.2\n",
      "1  189601         34.7     -2.7\n",
      "2  189701         35.5     -1.9\n",
      "   Date  Temperature  Anomaly\n",
      "0  1895         34.2     -3.2\n",
      "1  1896         34.7     -2.7\n",
      "2  1897         35.5     -1.9\n",
      "count    124.00\n",
      "mean      37.60\n",
      "std        4.54\n",
      "min       26.10\n",
      "25%       34.58\n",
      "50%       37.60\n",
      "75%       40.60\n",
      "max       47.60\n",
      "Name: Temperature, dtype: float64\n",
      "0.014771361132966163\n",
      "8.694993233674289\n",
      "38.51837136113297\n",
      "36.612865774980335\n",
      "The Max Jan temperature in 2021: 38.55\n"
     ]
    },
    {
     "data": {
      "image/png": "[encoded data removed]",
      "text/plain": [
       "<Figure size 432x288 with 1 Axes>"
      ]
     },
     "metadata": {},
     "output_type": "display_data"
    }
   ],
   "source": [
    "# 10.16 Part 2\n",
    "\n",
    "# Kyle Hudson\n",
    "\n",
    "# Follow the instructions to load NY City January high temperature from a csv file into a DataFrame.\n",
    "\n",
    "import pandas as pd\n",
    "\n",
    "nyc = pd.read_csv('ave_hi_nyc_jan_1895-2018.csv')\n",
    "\n",
    "\n",
    "# Follow the instructions to view head and tail of the file.\n",
    "\n",
    "print(nyc.head())\n",
    "print(nyc.tail())\n",
    "\n",
    "\n",
    "# Follow the instructions to clean the data.\n",
    "\n",
    "nyc.columns = ['Date', 'Temperature', 'Anomaly']\n",
    "\n",
    "print(nyc.head(3))\n",
    "\n",
    "nyc.Date = nyc.Date.floordiv(100)\n",
    "\n",
    "print(nyc.head(3))\n",
    "\n",
    "pd.set_option('precision', 2)\n",
    "\n",
    "# Use describe to calculate basic descriptive statistics for the dataset.\n",
    "\n",
    "print(nyc.Temperature.describe())\n",
    "\n",
    "# Use the SciPy stats module linregress function to calculate slope and intercept for the best fit line through the data.\n",
    "\n",
    "from scipy import stats\n",
    "\n",
    "linear_regression = stats.linregress(x=nyc.Date, y=nyc.Temperature)\n",
    "\n",
    "print(linear_regression.slope)\n",
    "print(linear_regression.intercept)\n",
    "\n",
    "print(linear_regression.slope * 2019 + linear_regression.intercept)\n",
    "\n",
    "print(linear_regression.slope * 1890 + linear_regression.intercept)\n",
    "\n",
    "import seaborn as sns\n",
    "\n",
    "sns.set_style('whitegrid')\n",
    "\n",
    "axes = sns.regplot(x=nyc.Date, y=nyc.Temperature)\n",
    "\n",
    "axes.set_ylim(10, 70)\n",
    "\n",
    "# Use your results to predict the max Jan temperature in 2021.\n",
    "\n",
    "print(f'The Max Jan temperature in 2021: {linear_regression.slope * 2021 + linear_regression.intercept:.2f}')\n"
   ]
  }
 ],
 "metadata": {
  "kernelspec": {
   "display_name": "Python 3 (ipykernel)",
   "language": "python",
   "name": "python3"
  },
  "language_info": {
   "codemirror_mode": {
    "name": "ipython",
    "version": 3
   },
   "file_extension": ".py",
   "mimetype": "text/x-python",
   "name": "python",
   "nbconvert_exporter": "python",
   "pygments_lexer": "ipython3",
   "version": "3.8.12"
  }
 },
 "nbformat": 4,
 "nbformat_minor": 5
}
